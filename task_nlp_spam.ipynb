{
  "cells": [
    {
      "cell_type": "code",
      "execution_count": 1,
      "id": "dc962ab6-641f-4411-8f44-ffc39f0fe075",
      "metadata": {
        "id": "dc962ab6-641f-4411-8f44-ffc39f0fe075"
      },
      "outputs": [],
      "source": [
        "import numpy as np\n",
        "import pandas as pd\n",
        "\n",
        "from sklearn.feature_extraction.text import TfidfVectorizer\n",
        "from sklearn.model_selection import train_test_split"
      ]
    },
    {
      "cell_type": "code",
      "source": [
        "import numpy as np\n",
        "import pandas as pd\n",
        "import tensorflow as tf\n",
        "from tensorflow.keras.layers import Dense, Input\n",
        "from sklearn.metrics import accuracy_score"
      ],
      "metadata": {
        "id": "K4LTR7ADjLau"
      },
      "id": "K4LTR7ADjLau",
      "execution_count": 2,
      "outputs": []
    },
    {
      "cell_type": "code",
      "execution_count": 3,
      "id": "83bca846-c057-461b-b6c0-423a49789fa3",
      "metadata": {
        "colab": {
          "base_uri": "https://localhost:8080/",
          "height": 424
        },
        "id": "83bca846-c057-461b-b6c0-423a49789fa3",
        "outputId": "27bfd3a2-5e03-41c1-a21a-ac64412e036f"
      },
      "outputs": [
        {
          "output_type": "execute_result",
          "data": {
            "text/plain": [
              "                                       message_content  is_spam\n",
              "0    Hello Lonnie,\\n\\nJust wanted to touch base reg...        0\n",
              "1    Congratulations, you've won a prize! Call us n...        1\n",
              "2    You have been pre-approved for a credit card w...        1\n",
              "3    Limited time offer, act now! Only a few spots ...        1\n",
              "4    Your loan has been approved! Transfer funds to...        1\n",
              "..                                                 ...      ...\n",
              "995  Hello Virginia,\\n\\nIt was great to catch up wi...        0\n",
              "996  Final notice: Claim your inheritance from a di...        1\n",
              "997  Hot singles in your area want to chat! Contact...        1\n",
              "998  Your loan has been approved! Transfer funds to...        1\n",
              "999  Dear Brian,\\n\\nI wanted to let you know about ...        0\n",
              "\n",
              "[1000 rows x 2 columns]"
            ],
            "text/html": [
              "\n",
              "  <div id=\"df-3a2e5b59-ca58-4fba-8a2c-afbded6627b3\" class=\"colab-df-container\">\n",
              "    <div>\n",
              "<style scoped>\n",
              "    .dataframe tbody tr th:only-of-type {\n",
              "        vertical-align: middle;\n",
              "    }\n",
              "\n",
              "    .dataframe tbody tr th {\n",
              "        vertical-align: top;\n",
              "    }\n",
              "\n",
              "    .dataframe thead th {\n",
              "        text-align: right;\n",
              "    }\n",
              "</style>\n",
              "<table border=\"1\" class=\"dataframe\">\n",
              "  <thead>\n",
              "    <tr style=\"text-align: right;\">\n",
              "      <th></th>\n",
              "      <th>message_content</th>\n",
              "      <th>is_spam</th>\n",
              "    </tr>\n",
              "  </thead>\n",
              "  <tbody>\n",
              "    <tr>\n",
              "      <th>0</th>\n",
              "      <td>Hello Lonnie,\\n\\nJust wanted to touch base reg...</td>\n",
              "      <td>0</td>\n",
              "    </tr>\n",
              "    <tr>\n",
              "      <th>1</th>\n",
              "      <td>Congratulations, you've won a prize! Call us n...</td>\n",
              "      <td>1</td>\n",
              "    </tr>\n",
              "    <tr>\n",
              "      <th>2</th>\n",
              "      <td>You have been pre-approved for a credit card w...</td>\n",
              "      <td>1</td>\n",
              "    </tr>\n",
              "    <tr>\n",
              "      <th>3</th>\n",
              "      <td>Limited time offer, act now! Only a few spots ...</td>\n",
              "      <td>1</td>\n",
              "    </tr>\n",
              "    <tr>\n",
              "      <th>4</th>\n",
              "      <td>Your loan has been approved! Transfer funds to...</td>\n",
              "      <td>1</td>\n",
              "    </tr>\n",
              "    <tr>\n",
              "      <th>...</th>\n",
              "      <td>...</td>\n",
              "      <td>...</td>\n",
              "    </tr>\n",
              "    <tr>\n",
              "      <th>995</th>\n",
              "      <td>Hello Virginia,\\n\\nIt was great to catch up wi...</td>\n",
              "      <td>0</td>\n",
              "    </tr>\n",
              "    <tr>\n",
              "      <th>996</th>\n",
              "      <td>Final notice: Claim your inheritance from a di...</td>\n",
              "      <td>1</td>\n",
              "    </tr>\n",
              "    <tr>\n",
              "      <th>997</th>\n",
              "      <td>Hot singles in your area want to chat! Contact...</td>\n",
              "      <td>1</td>\n",
              "    </tr>\n",
              "    <tr>\n",
              "      <th>998</th>\n",
              "      <td>Your loan has been approved! Transfer funds to...</td>\n",
              "      <td>1</td>\n",
              "    </tr>\n",
              "    <tr>\n",
              "      <th>999</th>\n",
              "      <td>Dear Brian,\\n\\nI wanted to let you know about ...</td>\n",
              "      <td>0</td>\n",
              "    </tr>\n",
              "  </tbody>\n",
              "</table>\n",
              "<p>1000 rows × 2 columns</p>\n",
              "</div>\n",
              "    <div class=\"colab-df-buttons\">\n",
              "\n",
              "  <div class=\"colab-df-container\">\n",
              "    <button class=\"colab-df-convert\" onclick=\"convertToInteractive('df-3a2e5b59-ca58-4fba-8a2c-afbded6627b3')\"\n",
              "            title=\"Convert this dataframe to an interactive table.\"\n",
              "            style=\"display:none;\">\n",
              "\n",
              "  <svg xmlns=\"http://www.w3.org/2000/svg\" height=\"24px\" viewBox=\"0 -960 960 960\">\n",
              "    <path d=\"M120-120v-720h720v720H120Zm60-500h600v-160H180v160Zm220 220h160v-160H400v160Zm0 220h160v-160H400v160ZM180-400h160v-160H180v160Zm440 0h160v-160H620v160ZM180-180h160v-160H180v160Zm440 0h160v-160H620v160Z\"/>\n",
              "  </svg>\n",
              "    </button>\n",
              "\n",
              "  <style>\n",
              "    .colab-df-container {\n",
              "      display:flex;\n",
              "      gap: 12px;\n",
              "    }\n",
              "\n",
              "    .colab-df-convert {\n",
              "      background-color: #E8F0FE;\n",
              "      border: none;\n",
              "      border-radius: 50%;\n",
              "      cursor: pointer;\n",
              "      display: none;\n",
              "      fill: #1967D2;\n",
              "      height: 32px;\n",
              "      padding: 0 0 0 0;\n",
              "      width: 32px;\n",
              "    }\n",
              "\n",
              "    .colab-df-convert:hover {\n",
              "      background-color: #E2EBFA;\n",
              "      box-shadow: 0px 1px 2px rgba(60, 64, 67, 0.3), 0px 1px 3px 1px rgba(60, 64, 67, 0.15);\n",
              "      fill: #174EA6;\n",
              "    }\n",
              "\n",
              "    .colab-df-buttons div {\n",
              "      margin-bottom: 4px;\n",
              "    }\n",
              "\n",
              "    [theme=dark] .colab-df-convert {\n",
              "      background-color: #3B4455;\n",
              "      fill: #D2E3FC;\n",
              "    }\n",
              "\n",
              "    [theme=dark] .colab-df-convert:hover {\n",
              "      background-color: #434B5C;\n",
              "      box-shadow: 0px 1px 3px 1px rgba(0, 0, 0, 0.15);\n",
              "      filter: drop-shadow(0px 1px 2px rgba(0, 0, 0, 0.3));\n",
              "      fill: #FFFFFF;\n",
              "    }\n",
              "  </style>\n",
              "\n",
              "    <script>\n",
              "      const buttonEl =\n",
              "        document.querySelector('#df-3a2e5b59-ca58-4fba-8a2c-afbded6627b3 button.colab-df-convert');\n",
              "      buttonEl.style.display =\n",
              "        google.colab.kernel.accessAllowed ? 'block' : 'none';\n",
              "\n",
              "      async function convertToInteractive(key) {\n",
              "        const element = document.querySelector('#df-3a2e5b59-ca58-4fba-8a2c-afbded6627b3');\n",
              "        const dataTable =\n",
              "          await google.colab.kernel.invokeFunction('convertToInteractive',\n",
              "                                                    [key], {});\n",
              "        if (!dataTable) return;\n",
              "\n",
              "        const docLinkHtml = 'Like what you see? Visit the ' +\n",
              "          '<a target=\"_blank\" href=https://colab.research.google.com/notebooks/data_table.ipynb>data table notebook</a>'\n",
              "          + ' to learn more about interactive tables.';\n",
              "        element.innerHTML = '';\n",
              "        dataTable['output_type'] = 'display_data';\n",
              "        await google.colab.output.renderOutput(dataTable, element);\n",
              "        const docLink = document.createElement('div');\n",
              "        docLink.innerHTML = docLinkHtml;\n",
              "        element.appendChild(docLink);\n",
              "      }\n",
              "    </script>\n",
              "  </div>\n",
              "\n",
              "\n",
              "<div id=\"df-22acb1c0-46ab-4d4d-93ed-842e47d6e901\">\n",
              "  <button class=\"colab-df-quickchart\" onclick=\"quickchart('df-22acb1c0-46ab-4d4d-93ed-842e47d6e901')\"\n",
              "            title=\"Suggest charts\"\n",
              "            style=\"display:none;\">\n",
              "\n",
              "<svg xmlns=\"http://www.w3.org/2000/svg\" height=\"24px\"viewBox=\"0 0 24 24\"\n",
              "     width=\"24px\">\n",
              "    <g>\n",
              "        <path d=\"M19 3H5c-1.1 0-2 .9-2 2v14c0 1.1.9 2 2 2h14c1.1 0 2-.9 2-2V5c0-1.1-.9-2-2-2zM9 17H7v-7h2v7zm4 0h-2V7h2v10zm4 0h-2v-4h2v4z\"/>\n",
              "    </g>\n",
              "</svg>\n",
              "  </button>\n",
              "\n",
              "<style>\n",
              "  .colab-df-quickchart {\n",
              "      --bg-color: #E8F0FE;\n",
              "      --fill-color: #1967D2;\n",
              "      --hover-bg-color: #E2EBFA;\n",
              "      --hover-fill-color: #174EA6;\n",
              "      --disabled-fill-color: #AAA;\n",
              "      --disabled-bg-color: #DDD;\n",
              "  }\n",
              "\n",
              "  [theme=dark] .colab-df-quickchart {\n",
              "      --bg-color: #3B4455;\n",
              "      --fill-color: #D2E3FC;\n",
              "      --hover-bg-color: #434B5C;\n",
              "      --hover-fill-color: #FFFFFF;\n",
              "      --disabled-bg-color: #3B4455;\n",
              "      --disabled-fill-color: #666;\n",
              "  }\n",
              "\n",
              "  .colab-df-quickchart {\n",
              "    background-color: var(--bg-color);\n",
              "    border: none;\n",
              "    border-radius: 50%;\n",
              "    cursor: pointer;\n",
              "    display: none;\n",
              "    fill: var(--fill-color);\n",
              "    height: 32px;\n",
              "    padding: 0;\n",
              "    width: 32px;\n",
              "  }\n",
              "\n",
              "  .colab-df-quickchart:hover {\n",
              "    background-color: var(--hover-bg-color);\n",
              "    box-shadow: 0 1px 2px rgba(60, 64, 67, 0.3), 0 1px 3px 1px rgba(60, 64, 67, 0.15);\n",
              "    fill: var(--button-hover-fill-color);\n",
              "  }\n",
              "\n",
              "  .colab-df-quickchart-complete:disabled,\n",
              "  .colab-df-quickchart-complete:disabled:hover {\n",
              "    background-color: var(--disabled-bg-color);\n",
              "    fill: var(--disabled-fill-color);\n",
              "    box-shadow: none;\n",
              "  }\n",
              "\n",
              "  .colab-df-spinner {\n",
              "    border: 2px solid var(--fill-color);\n",
              "    border-color: transparent;\n",
              "    border-bottom-color: var(--fill-color);\n",
              "    animation:\n",
              "      spin 1s steps(1) infinite;\n",
              "  }\n",
              "\n",
              "  @keyframes spin {\n",
              "    0% {\n",
              "      border-color: transparent;\n",
              "      border-bottom-color: var(--fill-color);\n",
              "      border-left-color: var(--fill-color);\n",
              "    }\n",
              "    20% {\n",
              "      border-color: transparent;\n",
              "      border-left-color: var(--fill-color);\n",
              "      border-top-color: var(--fill-color);\n",
              "    }\n",
              "    30% {\n",
              "      border-color: transparent;\n",
              "      border-left-color: var(--fill-color);\n",
              "      border-top-color: var(--fill-color);\n",
              "      border-right-color: var(--fill-color);\n",
              "    }\n",
              "    40% {\n",
              "      border-color: transparent;\n",
              "      border-right-color: var(--fill-color);\n",
              "      border-top-color: var(--fill-color);\n",
              "    }\n",
              "    60% {\n",
              "      border-color: transparent;\n",
              "      border-right-color: var(--fill-color);\n",
              "    }\n",
              "    80% {\n",
              "      border-color: transparent;\n",
              "      border-right-color: var(--fill-color);\n",
              "      border-bottom-color: var(--fill-color);\n",
              "    }\n",
              "    90% {\n",
              "      border-color: transparent;\n",
              "      border-bottom-color: var(--fill-color);\n",
              "    }\n",
              "  }\n",
              "</style>\n",
              "\n",
              "  <script>\n",
              "    async function quickchart(key) {\n",
              "      const quickchartButtonEl =\n",
              "        document.querySelector('#' + key + ' button');\n",
              "      quickchartButtonEl.disabled = true;  // To prevent multiple clicks.\n",
              "      quickchartButtonEl.classList.add('colab-df-spinner');\n",
              "      try {\n",
              "        const charts = await google.colab.kernel.invokeFunction(\n",
              "            'suggestCharts', [key], {});\n",
              "      } catch (error) {\n",
              "        console.error('Error during call to suggestCharts:', error);\n",
              "      }\n",
              "      quickchartButtonEl.classList.remove('colab-df-spinner');\n",
              "      quickchartButtonEl.classList.add('colab-df-quickchart-complete');\n",
              "    }\n",
              "    (() => {\n",
              "      let quickchartButtonEl =\n",
              "        document.querySelector('#df-22acb1c0-46ab-4d4d-93ed-842e47d6e901 button');\n",
              "      quickchartButtonEl.style.display =\n",
              "        google.colab.kernel.accessAllowed ? 'block' : 'none';\n",
              "    })();\n",
              "  </script>\n",
              "</div>\n",
              "\n",
              "  <div id=\"id_d188026e-109d-4206-8c21-230954b27786\">\n",
              "    <style>\n",
              "      .colab-df-generate {\n",
              "        background-color: #E8F0FE;\n",
              "        border: none;\n",
              "        border-radius: 50%;\n",
              "        cursor: pointer;\n",
              "        display: none;\n",
              "        fill: #1967D2;\n",
              "        height: 32px;\n",
              "        padding: 0 0 0 0;\n",
              "        width: 32px;\n",
              "      }\n",
              "\n",
              "      .colab-df-generate:hover {\n",
              "        background-color: #E2EBFA;\n",
              "        box-shadow: 0px 1px 2px rgba(60, 64, 67, 0.3), 0px 1px 3px 1px rgba(60, 64, 67, 0.15);\n",
              "        fill: #174EA6;\n",
              "      }\n",
              "\n",
              "      [theme=dark] .colab-df-generate {\n",
              "        background-color: #3B4455;\n",
              "        fill: #D2E3FC;\n",
              "      }\n",
              "\n",
              "      [theme=dark] .colab-df-generate:hover {\n",
              "        background-color: #434B5C;\n",
              "        box-shadow: 0px 1px 3px 1px rgba(0, 0, 0, 0.15);\n",
              "        filter: drop-shadow(0px 1px 2px rgba(0, 0, 0, 0.3));\n",
              "        fill: #FFFFFF;\n",
              "      }\n",
              "    </style>\n",
              "    <button class=\"colab-df-generate\" onclick=\"generateWithVariable('data')\"\n",
              "            title=\"Generate code using this dataframe.\"\n",
              "            style=\"display:none;\">\n",
              "\n",
              "  <svg xmlns=\"http://www.w3.org/2000/svg\" height=\"24px\"viewBox=\"0 0 24 24\"\n",
              "       width=\"24px\">\n",
              "    <path d=\"M7,19H8.4L18.45,9,17,7.55,7,17.6ZM5,21V16.75L18.45,3.32a2,2,0,0,1,2.83,0l1.4,1.43a1.91,1.91,0,0,1,.58,1.4,1.91,1.91,0,0,1-.58,1.4L9.25,21ZM18.45,9,17,7.55Zm-12,3A5.31,5.31,0,0,0,4.9,8.1,5.31,5.31,0,0,0,1,6.5,5.31,5.31,0,0,0,4.9,4.9,5.31,5.31,0,0,0,6.5,1,5.31,5.31,0,0,0,8.1,4.9,5.31,5.31,0,0,0,12,6.5,5.46,5.46,0,0,0,6.5,12Z\"/>\n",
              "  </svg>\n",
              "    </button>\n",
              "    <script>\n",
              "      (() => {\n",
              "      const buttonEl =\n",
              "        document.querySelector('#id_d188026e-109d-4206-8c21-230954b27786 button.colab-df-generate');\n",
              "      buttonEl.style.display =\n",
              "        google.colab.kernel.accessAllowed ? 'block' : 'none';\n",
              "\n",
              "      buttonEl.onclick = () => {\n",
              "        google.colab.notebook.generateWithVariable('data');\n",
              "      }\n",
              "      })();\n",
              "    </script>\n",
              "  </div>\n",
              "\n",
              "    </div>\n",
              "  </div>\n"
            ],
            "application/vnd.google.colaboratory.intrinsic+json": {
              "type": "dataframe",
              "variable_name": "data",
              "summary": "{\n  \"name\": \"data\",\n  \"rows\": 1000,\n  \"fields\": [\n    {\n      \"column\": \"message_content\",\n      \"properties\": {\n        \"dtype\": \"string\",\n        \"num_unique_values\": 677,\n        \"samples\": [\n          \"Hi Linda,\\n\\nThank you for your email. I will get back to you with a detailed response shortly. Sound build condition population bit. Likely organization take activity lead sometimes. Current there research clearly.\\n\\nBest regards,\\nLuke Johnson\\n\\nI\\u2019m happy to assist with any additional details you might need. Let me know how I can help.\\n\\nIf you have any questions, please feel free to reach out.\",\n          \"You've won a free gift card worth $100! Click to claim it.\\n\\nExclusive promotion just for you! Act fast before it expires.\\n\\nFor more details, visit our website or contact us directly.\",\n          \"Dear Christopher,\\n\\nI hope you\\u2019re doing well. I just wanted to update you on the progress of the project. Please find the status report attached. Foreign if such need east city. Money space concern.\\nWay break but require nothing. Good challenge those either south total. Director thing finally forget order first.\\n\\nBest,\\nErnest Murphy\\n\\nPlease find attached the updated project plan. Let me know if you have any questions.\\n\\nIf you have any questions, please feel free to reach out.\"\n        ],\n        \"semantic_type\": \"\",\n        \"description\": \"\"\n      }\n    },\n    {\n      \"column\": \"is_spam\",\n      \"properties\": {\n        \"dtype\": \"number\",\n        \"std\": 0,\n        \"min\": 0,\n        \"max\": 1,\n        \"num_unique_values\": 2,\n        \"samples\": [\n          1,\n          0\n        ],\n        \"semantic_type\": \"\",\n        \"description\": \"\"\n      }\n    }\n  ]\n}"
            }
          },
          "metadata": {},
          "execution_count": 3
        }
      ],
      "source": [
        "data = pd.read_csv(\"spam_dataset.csv\")\n",
        "data"
      ]
    },
    {
      "cell_type": "code",
      "execution_count": 4,
      "id": "e0631c08-208f-4a1e-a76d-3a176ff723f6",
      "metadata": {
        "colab": {
          "base_uri": "https://localhost:8080/",
          "height": 178
        },
        "id": "e0631c08-208f-4a1e-a76d-3a176ff723f6",
        "outputId": "654f4dba-7c3d-45d7-ab2a-88a54f952e8e"
      },
      "outputs": [
        {
          "output_type": "execute_result",
          "data": {
            "text/plain": [
              "is_spam\n",
              "0    500\n",
              "1    500\n",
              "Name: count, dtype: int64"
            ],
            "text/html": [
              "<div>\n",
              "<style scoped>\n",
              "    .dataframe tbody tr th:only-of-type {\n",
              "        vertical-align: middle;\n",
              "    }\n",
              "\n",
              "    .dataframe tbody tr th {\n",
              "        vertical-align: top;\n",
              "    }\n",
              "\n",
              "    .dataframe thead th {\n",
              "        text-align: right;\n",
              "    }\n",
              "</style>\n",
              "<table border=\"1\" class=\"dataframe\">\n",
              "  <thead>\n",
              "    <tr style=\"text-align: right;\">\n",
              "      <th></th>\n",
              "      <th>count</th>\n",
              "    </tr>\n",
              "    <tr>\n",
              "      <th>is_spam</th>\n",
              "      <th></th>\n",
              "    </tr>\n",
              "  </thead>\n",
              "  <tbody>\n",
              "    <tr>\n",
              "      <th>0</th>\n",
              "      <td>500</td>\n",
              "    </tr>\n",
              "    <tr>\n",
              "      <th>1</th>\n",
              "      <td>500</td>\n",
              "    </tr>\n",
              "  </tbody>\n",
              "</table>\n",
              "</div><br><label><b>dtype:</b> int64</label>"
            ]
          },
          "metadata": {},
          "execution_count": 4
        }
      ],
      "source": [
        "data.is_spam.value_counts()"
      ]
    },
    {
      "cell_type": "code",
      "execution_count": 5,
      "id": "bc3c9423-0cbd-4fce-9e1d-a283426aca04",
      "metadata": {
        "colab": {
          "base_uri": "https://localhost:8080/"
        },
        "id": "bc3c9423-0cbd-4fce-9e1d-a283426aca04",
        "outputId": "0b49f885-ea5e-412b-c17f-904db87416cc"
      },
      "outputs": [
        {
          "output_type": "stream",
          "name": "stdout",
          "text": [
            "Hello Lonnie,\n",
            "\n",
            "Just wanted to touch base regarding our project’s next steps. Please find the details below. Information material statement power suddenly summer usually. Serious responsibility before new success each.\n",
            "\n",
            "Kind regards,\n",
            "Terry Griffin\n",
            "\n",
            "Please find attached the updated project plan. Let me know if you have any questions.\n",
            "\n",
            "If you have any questions, please feel free to reach out.\n"
          ]
        }
      ],
      "source": [
        "print(data.message_content[0])"
      ]
    },
    {
      "cell_type": "code",
      "source": [
        "x = data[\"message_content\"]\n",
        "y = data[\"is_spam\"]"
      ],
      "metadata": {
        "id": "IG9IpMQoWo5C"
      },
      "id": "IG9IpMQoWo5C",
      "execution_count": 6,
      "outputs": []
    },
    {
      "cell_type": "code",
      "source": [
        "x_train, x_test, y_train, y_test =  train_test_split(x, y, test_size=0.2, random_state=0)"
      ],
      "metadata": {
        "id": "x0Wm70YOWzst"
      },
      "id": "x0Wm70YOWzst",
      "execution_count": 7,
      "outputs": []
    },
    {
      "cell_type": "code",
      "source": [
        "x_train[687]"
      ],
      "metadata": {
        "colab": {
          "base_uri": "https://localhost:8080/",
          "height": 87
        },
        "id": "IW_tD6t7XJGz",
        "outputId": "b670b793-33f7-4bc3-ae44-7810cb54e080"
      },
      "id": "IW_tD6t7XJGz",
      "execution_count": 8,
      "outputs": [
        {
          "output_type": "execute_result",
          "data": {
            "text/plain": [
              "'Dear Christian,\\n\\nThank you for your patience. I’ve attached the final draft of the report. Please review it and provide your feedback. He prepare fine occur camera direction. Take southern summer.\\nApply window must own away where yes four. American specific clear trip leader.\\n\\nSincerely,\\nMichelle Flores\\n\\nPlease find attached the updated project plan. Let me know if you have any questions.\\n\\nIf you have any questions, please feel free to reach out.'"
            ],
            "application/vnd.google.colaboratory.intrinsic+json": {
              "type": "string"
            }
          },
          "metadata": {},
          "execution_count": 8
        }
      ]
    },
    {
      "cell_type": "code",
      "source": [
        "model = TfidfVectorizer(use_idf=True)\n",
        "x_train = model.fit_transform(x_train)\n",
        "x_test = model.transform(x_test)"
      ],
      "metadata": {
        "id": "Xk58KI6DX_87"
      },
      "id": "Xk58KI6DX_87",
      "execution_count": 10,
      "outputs": []
    },
    {
      "cell_type": "code",
      "source": [
        "y_train_cat = tf.keras.utils.to_categorical(y_train)\n",
        "y_test_cat = tf.keras.utils.to_categorical(y_test)"
      ],
      "metadata": {
        "id": "TjU3xIFNeQuu"
      },
      "id": "TjU3xIFNeQuu",
      "execution_count": 11,
      "outputs": []
    },
    {
      "cell_type": "code",
      "source": [
        "model1 = tf.keras.Sequential([\n",
        "    Input(shape = (1725,)),\n",
        "    Dense(10, activation = \"linear\"),\n",
        "    Dense(2, activation = 'softmax')\n",
        "])\n",
        "model1.summary()"
      ],
      "metadata": {
        "colab": {
          "base_uri": "https://localhost:8080/",
          "height": 204
        },
        "id": "QlRhoqA7Vrdk",
        "outputId": "f58c87d9-931a-4b2b-9c52-0e69ec59125a"
      },
      "id": "QlRhoqA7Vrdk",
      "execution_count": 20,
      "outputs": [
        {
          "output_type": "display_data",
          "data": {
            "text/plain": [
              "\u001b[1mModel: \"sequential_2\"\u001b[0m\n"
            ],
            "text/html": [
              "<pre style=\"white-space:pre;overflow-x:auto;line-height:normal;font-family:Menlo,'DejaVu Sans Mono',consolas,'Courier New',monospace\"><span style=\"font-weight: bold\">Model: \"sequential_2\"</span>\n",
              "</pre>\n"
            ]
          },
          "metadata": {}
        },
        {
          "output_type": "display_data",
          "data": {
            "text/plain": [
              "┏━━━━━━━━━━━━━━━━━━━━━━━━━━━━━━━━━━━━━━┳━━━━━━━━━━━━━━━━━━━━━━━━━━━━━┳━━━━━━━━━━━━━━━━━┓\n",
              "┃\u001b[1m \u001b[0m\u001b[1mLayer (type)                        \u001b[0m\u001b[1m \u001b[0m┃\u001b[1m \u001b[0m\u001b[1mOutput Shape               \u001b[0m\u001b[1m \u001b[0m┃\u001b[1m \u001b[0m\u001b[1m        Param #\u001b[0m\u001b[1m \u001b[0m┃\n",
              "┡━━━━━━━━━━━━━━━━━━━━━━━━━━━━━━━━━━━━━━╇━━━━━━━━━━━━━━━━━━━━━━━━━━━━━╇━━━━━━━━━━━━━━━━━┩\n",
              "│ dense_4 (\u001b[38;5;33mDense\u001b[0m)                      │ (\u001b[38;5;45mNone\u001b[0m, \u001b[38;5;34m10\u001b[0m)                  │          \u001b[38;5;34m17,260\u001b[0m │\n",
              "├──────────────────────────────────────┼─────────────────────────────┼─────────────────┤\n",
              "│ dense_5 (\u001b[38;5;33mDense\u001b[0m)                      │ (\u001b[38;5;45mNone\u001b[0m, \u001b[38;5;34m2\u001b[0m)                   │              \u001b[38;5;34m22\u001b[0m │\n",
              "└──────────────────────────────────────┴─────────────────────────────┴─────────────────┘\n"
            ],
            "text/html": [
              "<pre style=\"white-space:pre;overflow-x:auto;line-height:normal;font-family:Menlo,'DejaVu Sans Mono',consolas,'Courier New',monospace\">┏━━━━━━━━━━━━━━━━━━━━━━━━━━━━━━━━━━━━━━┳━━━━━━━━━━━━━━━━━━━━━━━━━━━━━┳━━━━━━━━━━━━━━━━━┓\n",
              "┃<span style=\"font-weight: bold\"> Layer (type)                         </span>┃<span style=\"font-weight: bold\"> Output Shape                </span>┃<span style=\"font-weight: bold\">         Param # </span>┃\n",
              "┡━━━━━━━━━━━━━━━━━━━━━━━━━━━━━━━━━━━━━━╇━━━━━━━━━━━━━━━━━━━━━━━━━━━━━╇━━━━━━━━━━━━━━━━━┩\n",
              "│ dense_4 (<span style=\"color: #0087ff; text-decoration-color: #0087ff\">Dense</span>)                      │ (<span style=\"color: #00d7ff; text-decoration-color: #00d7ff\">None</span>, <span style=\"color: #00af00; text-decoration-color: #00af00\">10</span>)                  │          <span style=\"color: #00af00; text-decoration-color: #00af00\">17,260</span> │\n",
              "├──────────────────────────────────────┼─────────────────────────────┼─────────────────┤\n",
              "│ dense_5 (<span style=\"color: #0087ff; text-decoration-color: #0087ff\">Dense</span>)                      │ (<span style=\"color: #00d7ff; text-decoration-color: #00d7ff\">None</span>, <span style=\"color: #00af00; text-decoration-color: #00af00\">2</span>)                   │              <span style=\"color: #00af00; text-decoration-color: #00af00\">22</span> │\n",
              "└──────────────────────────────────────┴─────────────────────────────┴─────────────────┘\n",
              "</pre>\n"
            ]
          },
          "metadata": {}
        },
        {
          "output_type": "display_data",
          "data": {
            "text/plain": [
              "\u001b[1m Total params: \u001b[0m\u001b[38;5;34m17,282\u001b[0m (67.51 KB)\n"
            ],
            "text/html": [
              "<pre style=\"white-space:pre;overflow-x:auto;line-height:normal;font-family:Menlo,'DejaVu Sans Mono',consolas,'Courier New',monospace\"><span style=\"font-weight: bold\"> Total params: </span><span style=\"color: #00af00; text-decoration-color: #00af00\">17,282</span> (67.51 KB)\n",
              "</pre>\n"
            ]
          },
          "metadata": {}
        },
        {
          "output_type": "display_data",
          "data": {
            "text/plain": [
              "\u001b[1m Trainable params: \u001b[0m\u001b[38;5;34m17,282\u001b[0m (67.51 KB)\n"
            ],
            "text/html": [
              "<pre style=\"white-space:pre;overflow-x:auto;line-height:normal;font-family:Menlo,'DejaVu Sans Mono',consolas,'Courier New',monospace\"><span style=\"font-weight: bold\"> Trainable params: </span><span style=\"color: #00af00; text-decoration-color: #00af00\">17,282</span> (67.51 KB)\n",
              "</pre>\n"
            ]
          },
          "metadata": {}
        },
        {
          "output_type": "display_data",
          "data": {
            "text/plain": [
              "\u001b[1m Non-trainable params: \u001b[0m\u001b[38;5;34m0\u001b[0m (0.00 B)\n"
            ],
            "text/html": [
              "<pre style=\"white-space:pre;overflow-x:auto;line-height:normal;font-family:Menlo,'DejaVu Sans Mono',consolas,'Courier New',monospace\"><span style=\"font-weight: bold\"> Non-trainable params: </span><span style=\"color: #00af00; text-decoration-color: #00af00\">0</span> (0.00 B)\n",
              "</pre>\n"
            ]
          },
          "metadata": {}
        }
      ]
    },
    {
      "cell_type": "code",
      "source": [
        "model1.compile(loss = 'categorical_crossentropy', optimizer = 'adam', metrics= ['accuracy'])"
      ],
      "metadata": {
        "id": "KpEm7GJfcbLr"
      },
      "id": "KpEm7GJfcbLr",
      "execution_count": 21,
      "outputs": []
    },
    {
      "cell_type": "code",
      "source": [
        "model1.fit(x_train, y_train_cat, epochs = 1, batch_size = 5, validation_data = (x_test, y_test_cat))"
      ],
      "metadata": {
        "colab": {
          "base_uri": "https://localhost:8080/"
        },
        "id": "w5CePVJcjalt",
        "outputId": "c1b40a15-49dd-4a0b-b23b-8537bc87d825"
      },
      "id": "w5CePVJcjalt",
      "execution_count": 22,
      "outputs": [
        {
          "output_type": "stream",
          "name": "stdout",
          "text": [
            "\u001b[1m160/160\u001b[0m \u001b[32m━━━━━━━━━━━━━━━━━━━━\u001b[0m\u001b[37m\u001b[0m \u001b[1m48s\u001b[0m 286ms/step - accuracy: 0.9060 - loss: 0.5147 - val_accuracy: 1.0000 - val_loss: 0.0878\n"
          ]
        },
        {
          "output_type": "execute_result",
          "data": {
            "text/plain": [
              "<keras.src.callbacks.history.History at 0x77fae0e6c9d0>"
            ]
          },
          "metadata": {},
          "execution_count": 22
        }
      ]
    },
    {
      "cell_type": "code",
      "source": [
        "preds = model1.predict(x_test)"
      ],
      "metadata": {
        "colab": {
          "base_uri": "https://localhost:8080/"
        },
        "id": "0X1US7eAjqjj",
        "outputId": "78c68fc9-b1ba-4215-93dd-3603e4e4fe87"
      },
      "id": "0X1US7eAjqjj",
      "execution_count": 23,
      "outputs": [
        {
          "output_type": "stream",
          "name": "stdout",
          "text": [
            "\u001b[1m7/7\u001b[0m \u001b[32m━━━━━━━━━━━━━━━━━━━━\u001b[0m\u001b[37m\u001b[0m \u001b[1m1s\u001b[0m 90ms/step\n"
          ]
        }
      ]
    },
    {
      "cell_type": "code",
      "source": [
        "preds"
      ],
      "metadata": {
        "colab": {
          "base_uri": "https://localhost:8080/"
        },
        "id": "lLn-iTO8nFrD",
        "outputId": "f32dcd47-28d8-4e4e-b7ce-5cf091b62f8f"
      },
      "id": "lLn-iTO8nFrD",
      "execution_count": 24,
      "outputs": [
        {
          "output_type": "execute_result",
          "data": {
            "text/plain": [
              "array([[0.9333273 , 0.06667271],\n",
              "       [0.94785696, 0.05214305],\n",
              "       [0.07671787, 0.9232821 ],\n",
              "       [0.1084597 , 0.8915403 ],\n",
              "       [0.095294  , 0.904706  ],\n",
              "       [0.87052727, 0.12947269],\n",
              "       [0.06471658, 0.93528336],\n",
              "       [0.900305  , 0.09969505],\n",
              "       [0.9127381 , 0.08726192],\n",
              "       [0.9325332 , 0.06746679],\n",
              "       [0.9171425 , 0.08285747],\n",
              "       [0.90193325, 0.09806675],\n",
              "       [0.08802412, 0.9119759 ],\n",
              "       [0.08537076, 0.9146292 ],\n",
              "       [0.09521103, 0.904789  ],\n",
              "       [0.91021067, 0.08978934],\n",
              "       [0.05851127, 0.94148874],\n",
              "       [0.9137063 , 0.0862937 ],\n",
              "       [0.90959173, 0.09040824],\n",
              "       [0.08880945, 0.91119057],\n",
              "       [0.9258603 , 0.07413971],\n",
              "       [0.07671787, 0.9232821 ],\n",
              "       [0.9160925 , 0.08390746],\n",
              "       [0.06672726, 0.9332727 ],\n",
              "       [0.09190034, 0.90809965],\n",
              "       [0.09453093, 0.9054691 ],\n",
              "       [0.09115571, 0.90884423],\n",
              "       [0.06526969, 0.9347303 ],\n",
              "       [0.09936171, 0.9006383 ],\n",
              "       [0.07742622, 0.92257375],\n",
              "       [0.0719363 , 0.9280637 ],\n",
              "       [0.07505691, 0.92494315],\n",
              "       [0.9069344 , 0.09306566],\n",
              "       [0.0744931 , 0.92550695],\n",
              "       [0.9420386 , 0.05796141],\n",
              "       [0.9272108 , 0.0727892 ],\n",
              "       [0.9240179 , 0.07598203],\n",
              "       [0.07541325, 0.9245867 ],\n",
              "       [0.09176489, 0.9082351 ],\n",
              "       [0.06527007, 0.93473   ],\n",
              "       [0.9357241 , 0.06427596],\n",
              "       [0.11482521, 0.8851748 ],\n",
              "       [0.07748897, 0.92251104],\n",
              "       [0.0937731 , 0.9062269 ],\n",
              "       [0.9094667 , 0.09053332],\n",
              "       [0.90988654, 0.09011348],\n",
              "       [0.92905617, 0.07094382],\n",
              "       [0.06527007, 0.93473   ],\n",
              "       [0.06749973, 0.93250024],\n",
              "       [0.07709838, 0.92290163],\n",
              "       [0.07748897, 0.92251104],\n",
              "       [0.93663836, 0.0633617 ],\n",
              "       [0.08044194, 0.9195581 ],\n",
              "       [0.90815383, 0.09184615],\n",
              "       [0.91354126, 0.08645878],\n",
              "       [0.9141826 , 0.08581737],\n",
              "       [0.05949014, 0.9405099 ],\n",
              "       [0.07583041, 0.9241696 ],\n",
              "       [0.9045512 , 0.09544875],\n",
              "       [0.91403466, 0.08596533],\n",
              "       [0.08560841, 0.9143916 ],\n",
              "       [0.9330472 , 0.06695285],\n",
              "       [0.9078694 , 0.09213063],\n",
              "       [0.8972923 , 0.10270767],\n",
              "       [0.90849334, 0.09150665],\n",
              "       [0.08165135, 0.91834867],\n",
              "       [0.08925195, 0.91074806],\n",
              "       [0.9025722 , 0.09742779],\n",
              "       [0.92612964, 0.07387038],\n",
              "       [0.0744931 , 0.92550695],\n",
              "       [0.9110627 , 0.0889373 ],\n",
              "       [0.91913915, 0.08086083],\n",
              "       [0.06526969, 0.9347303 ],\n",
              "       [0.08159716, 0.91840285],\n",
              "       [0.956058  , 0.043942  ],\n",
              "       [0.933984  , 0.06601599],\n",
              "       [0.08745045, 0.91254956],\n",
              "       [0.0745025 , 0.92549753],\n",
              "       [0.90277815, 0.09722187],\n",
              "       [0.9391103 , 0.06088978],\n",
              "       [0.9257394 , 0.07426056],\n",
              "       [0.9220522 , 0.07794778],\n",
              "       [0.94995373, 0.05004632],\n",
              "       [0.92905444, 0.07094555],\n",
              "       [0.09178824, 0.90821177],\n",
              "       [0.9013945 , 0.09860548],\n",
              "       [0.91070306, 0.08929692],\n",
              "       [0.06816382, 0.9318361 ],\n",
              "       [0.92988205, 0.07011797],\n",
              "       [0.89964217, 0.10035782],\n",
              "       [0.8983693 , 0.10163067],\n",
              "       [0.89733356, 0.10266642],\n",
              "       [0.9252008 , 0.07479914],\n",
              "       [0.921968  , 0.07803199],\n",
              "       [0.9217334 , 0.07826664],\n",
              "       [0.09165469, 0.9083453 ],\n",
              "       [0.9090089 , 0.09099105],\n",
              "       [0.07465652, 0.9253435 ],\n",
              "       [0.06808606, 0.9319139 ],\n",
              "       [0.07247415, 0.9275259 ],\n",
              "       [0.07254802, 0.9274519 ],\n",
              "       [0.91856045, 0.08143958],\n",
              "       [0.08385639, 0.91614366],\n",
              "       [0.10179436, 0.8982056 ],\n",
              "       [0.08802412, 0.9119759 ],\n",
              "       [0.05851127, 0.94148874],\n",
              "       [0.08675715, 0.9132429 ],\n",
              "       [0.08831328, 0.9116867 ],\n",
              "       [0.9019524 , 0.09804761],\n",
              "       [0.90375334, 0.09624662],\n",
              "       [0.9181388 , 0.08186127],\n",
              "       [0.89702517, 0.10297482],\n",
              "       [0.9319923 , 0.06800773],\n",
              "       [0.9105762 , 0.08942376],\n",
              "       [0.9089777 , 0.0910223 ],\n",
              "       [0.8975679 , 0.10243206],\n",
              "       [0.8994681 , 0.10053183],\n",
              "       [0.05828213, 0.94171786],\n",
              "       [0.07853734, 0.92146266],\n",
              "       [0.11482521, 0.8851748 ],\n",
              "       [0.08853037, 0.91146964],\n",
              "       [0.89917713, 0.1008229 ],\n",
              "       [0.09068408, 0.9093159 ],\n",
              "       [0.90901315, 0.09098687],\n",
              "       [0.07296337, 0.92703664],\n",
              "       [0.0719363 , 0.9280637 ],\n",
              "       [0.07541325, 0.9245867 ],\n",
              "       [0.0910001 , 0.90899986],\n",
              "       [0.08537076, 0.9146292 ],\n",
              "       [0.8737724 , 0.12622759],\n",
              "       [0.9194952 , 0.08050485],\n",
              "       [0.09891354, 0.9010865 ],\n",
              "       [0.91966796, 0.08033203],\n",
              "       [0.08831328, 0.9116867 ],\n",
              "       [0.91948783, 0.08051216],\n",
              "       [0.0730584 , 0.9269416 ],\n",
              "       [0.08477294, 0.91522706],\n",
              "       [0.09122413, 0.9087758 ],\n",
              "       [0.89888394, 0.10111608],\n",
              "       [0.08165135, 0.91834867],\n",
              "       [0.9216064 , 0.07839364],\n",
              "       [0.9313467 , 0.06865329],\n",
              "       [0.9141528 , 0.08584718],\n",
              "       [0.9085385 , 0.09146152],\n",
              "       [0.11652765, 0.8834724 ],\n",
              "       [0.9501944 , 0.04980555],\n",
              "       [0.91285354, 0.08714651],\n",
              "       [0.9120731 , 0.08792696],\n",
              "       [0.09796294, 0.902037  ],\n",
              "       [0.07961241, 0.9203876 ],\n",
              "       [0.06527007, 0.93473   ],\n",
              "       [0.08853037, 0.91146964],\n",
              "       [0.08392867, 0.9160713 ],\n",
              "       [0.91740274, 0.08259724],\n",
              "       [0.08107238, 0.9189276 ],\n",
              "       [0.08802412, 0.9119759 ],\n",
              "       [0.05828213, 0.94171786],\n",
              "       [0.09068408, 0.9093159 ],\n",
              "       [0.9107406 , 0.08925935],\n",
              "       [0.08519153, 0.91480845],\n",
              "       [0.05851127, 0.94148874],\n",
              "       [0.91233647, 0.08766358],\n",
              "       [0.9237676 , 0.07623241],\n",
              "       [0.89106923, 0.10893074],\n",
              "       [0.07583041, 0.9241696 ],\n",
              "       [0.8950586 , 0.10494138],\n",
              "       [0.0937731 , 0.9062269 ],\n",
              "       [0.8740048 , 0.12599525],\n",
              "       [0.08853037, 0.91146964],\n",
              "       [0.87777025, 0.12222974],\n",
              "       [0.8597568 , 0.14024317],\n",
              "       [0.90159184, 0.0984082 ],\n",
              "       [0.05828213, 0.94171786],\n",
              "       [0.08477294, 0.91522706],\n",
              "       [0.05828213, 0.94171786],\n",
              "       [0.9109413 , 0.08905865],\n",
              "       [0.08662482, 0.91337526],\n",
              "       [0.9162535 , 0.08374652],\n",
              "       [0.9140209 , 0.08597907],\n",
              "       [0.9079335 , 0.09206647],\n",
              "       [0.1199525 , 0.88004756],\n",
              "       [0.90829414, 0.09170581],\n",
              "       [0.07228026, 0.9277198 ],\n",
              "       [0.07770944, 0.92229056],\n",
              "       [0.8997476 , 0.10025243],\n",
              "       [0.06928998, 0.9307101 ],\n",
              "       [0.93401986, 0.06598013],\n",
              "       [0.9075736 , 0.09242639],\n",
              "       [0.8963008 , 0.10369924],\n",
              "       [0.08537076, 0.9146292 ],\n",
              "       [0.9084433 , 0.09155674],\n",
              "       [0.0762746 , 0.92372537],\n",
              "       [0.06471658, 0.93528336],\n",
              "       [0.06527007, 0.93473   ],\n",
              "       [0.93064976, 0.06935028],\n",
              "       [0.08847386, 0.9115261 ],\n",
              "       [0.06374869, 0.93625134],\n",
              "       [0.09948168, 0.9005183 ],\n",
              "       [0.9094252 , 0.09057484],\n",
              "       [0.8970324 , 0.10296759]], dtype=float32)"
            ]
          },
          "metadata": {},
          "execution_count": 24
        }
      ]
    },
    {
      "cell_type": "code",
      "source": [
        "x_test"
      ],
      "metadata": {
        "colab": {
          "base_uri": "https://localhost:8080/",
          "height": 458
        },
        "id": "S4Vkx__NnNoF",
        "outputId": "3ddd4550-4581-4863-ad3b-da9d38bec932"
      },
      "id": "S4Vkx__NnNoF",
      "execution_count": 9,
      "outputs": [
        {
          "output_type": "execute_result",
          "data": {
            "text/plain": [
              "993    Hi Brandon,\\n\\nI hope this message finds you w...\n",
              "859    Dear Michael,\\n\\nI hope you’re doing well. I j...\n",
              "298    Your account has been flagged. Please verify y...\n",
              "553    Final notice: Claim your inheritance from a di...\n",
              "672    Win a brand new car! Enter now to win.\\n\\nExcl...\n",
              "                             ...                        \n",
              "679    You've won a free gift card worth $100! Click ...\n",
              "722    Limited time offer, act now! Only a few spots ...\n",
              "215    Earn money from home! No experience needed.\\n\\...\n",
              "653    Dear Jacob,\\n\\nThank you for your patience. I’...\n",
              "150    Hey Jared,\\n\\nCan you please confirm your avai...\n",
              "Name: message_content, Length: 200, dtype: object"
            ],
            "text/html": [
              "<div>\n",
              "<style scoped>\n",
              "    .dataframe tbody tr th:only-of-type {\n",
              "        vertical-align: middle;\n",
              "    }\n",
              "\n",
              "    .dataframe tbody tr th {\n",
              "        vertical-align: top;\n",
              "    }\n",
              "\n",
              "    .dataframe thead th {\n",
              "        text-align: right;\n",
              "    }\n",
              "</style>\n",
              "<table border=\"1\" class=\"dataframe\">\n",
              "  <thead>\n",
              "    <tr style=\"text-align: right;\">\n",
              "      <th></th>\n",
              "      <th>message_content</th>\n",
              "    </tr>\n",
              "  </thead>\n",
              "  <tbody>\n",
              "    <tr>\n",
              "      <th>993</th>\n",
              "      <td>Hi Brandon,\\n\\nI hope this message finds you w...</td>\n",
              "    </tr>\n",
              "    <tr>\n",
              "      <th>859</th>\n",
              "      <td>Dear Michael,\\n\\nI hope you’re doing well. I j...</td>\n",
              "    </tr>\n",
              "    <tr>\n",
              "      <th>298</th>\n",
              "      <td>Your account has been flagged. Please verify y...</td>\n",
              "    </tr>\n",
              "    <tr>\n",
              "      <th>553</th>\n",
              "      <td>Final notice: Claim your inheritance from a di...</td>\n",
              "    </tr>\n",
              "    <tr>\n",
              "      <th>672</th>\n",
              "      <td>Win a brand new car! Enter now to win.\\n\\nExcl...</td>\n",
              "    </tr>\n",
              "    <tr>\n",
              "      <th>...</th>\n",
              "      <td>...</td>\n",
              "    </tr>\n",
              "    <tr>\n",
              "      <th>679</th>\n",
              "      <td>You've won a free gift card worth $100! Click ...</td>\n",
              "    </tr>\n",
              "    <tr>\n",
              "      <th>722</th>\n",
              "      <td>Limited time offer, act now! Only a few spots ...</td>\n",
              "    </tr>\n",
              "    <tr>\n",
              "      <th>215</th>\n",
              "      <td>Earn money from home! No experience needed.\\n\\...</td>\n",
              "    </tr>\n",
              "    <tr>\n",
              "      <th>653</th>\n",
              "      <td>Dear Jacob,\\n\\nThank you for your patience. I’...</td>\n",
              "    </tr>\n",
              "    <tr>\n",
              "      <th>150</th>\n",
              "      <td>Hey Jared,\\n\\nCan you please confirm your avai...</td>\n",
              "    </tr>\n",
              "  </tbody>\n",
              "</table>\n",
              "<p>200 rows × 1 columns</p>\n",
              "</div><br><label><b>dtype:</b> object</label>"
            ]
          },
          "metadata": {},
          "execution_count": 9
        }
      ]
    },
    {
      "cell_type": "code",
      "source": [],
      "metadata": {
        "id": "syi8H9IDrNGy"
      },
      "id": "syi8H9IDrNGy",
      "execution_count": null,
      "outputs": []
    }
  ],
  "metadata": {
    "kernelspec": {
      "display_name": "Python 3",
      "name": "python3"
    },
    "language_info": {
      "codemirror_mode": {
        "name": "ipython",
        "version": 3
      },
      "file_extension": ".py",
      "mimetype": "text/x-python",
      "name": "python",
      "nbconvert_exporter": "python",
      "pygments_lexer": "ipython3",
      "version": "3.12.5"
    },
    "colab": {
      "provenance": [],
      "gpuType": "T4"
    },
    "accelerator": "GPU"
  },
  "nbformat": 4,
  "nbformat_minor": 5
}